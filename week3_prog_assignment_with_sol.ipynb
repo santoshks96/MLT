{
  "nbformat": 4,
  "nbformat_minor": 0,
  "metadata": {
    "colab": {
      "provenance": [],
      "collapsed_sections": []
    },
    "kernelspec": {
      "name": "python3",
      "display_name": "Python 3"
    },
    "language_info": {
      "name": "python"
    }
  },
  "cells": [
    {
      "cell_type": "code",
      "execution_count": null,
      "metadata": {
        "id": "3TDibK0Yrxm_"
      },
      "outputs": [],
      "source": [
        "import numpy as np\n",
        "import matplotlib.pyplot as plt\n"
      ]
    },
    {
      "cell_type": "markdown",
      "source": [
        "# Week-3\n",
        "\n",
        "**Note to Learners**: \n",
        "\n",
        "- For questions that involve plotting, just enter $0$ as the answer in the portal.\n",
        "- For numerical questions, there are two parts. The first part expects you to compute some quantity, say a parameter of a machine learning model. The second part will require you to convert this quantity (if it is not a scalar) into a scalar so that it can be entered as the answer on the portal to the corresponding NAT question.\n",
        "\n"
      ],
      "metadata": {
        "id": "1TBHlt7hAdN1"
      }
    },
    {
      "cell_type": "markdown",
      "source": [
        "## Dataset\n",
        "\n",
        "Run the cell given below to generate the data-matrix $\\mathbf{X}$, which is of shape $(n, d)$, where $n$ denotes the number of samples and $d$ denotes the number of features. You will be using this dataset for the rest of the assignment. \n",
        "\n",
        "**Do not edit this cell.**"
      ],
      "metadata": {
        "id": "XJKrscLo9qwH"
      }
    },
    {
      "cell_type": "code",
      "source": [
        "np.random.seed(0)\n",
        "\n",
        "N = 2000\n",
        "data1 = np.random.randn(N//3,2) + np.array([2,2])\n",
        "data2 = np.random.randn(N//3,2) + np.array([-3,-3])\n",
        "data3 = np.random.randn(N//3,2) + np.array([-5,3])\n",
        "X = np.concatenate((data1, data2, data3))\n"
      ],
      "metadata": {
        "id": "GIygEzr49Xvf"
      },
      "execution_count": null,
      "outputs": []
    },
    {
      "cell_type": "code",
      "source": [
        "X"
      ],
      "metadata": {
        "colab": {
          "base_uri": "https://localhost:8080/"
        },
        "id": "gXV43fJhr_0B",
        "outputId": "dfee040d-5eac-490c-c7c4-a5162be85e62"
      },
      "execution_count": null,
      "outputs": [
        {
          "output_type": "execute_result",
          "data": {
            "text/plain": [
              "array([[ 3.76405235,  2.40015721],\n",
              "       [ 2.97873798,  4.2408932 ],\n",
              "       [ 3.86755799,  1.02272212],\n",
              "       ...,\n",
              "       [-6.46836696,  3.5764787 ],\n",
              "       [-4.93469439,  2.2264872 ],\n",
              "       [-4.60505181,  2.49611011]])"
            ]
          },
          "metadata": {},
          "execution_count": 199
        }
      ]
    },
    {
      "cell_type": "markdown",
      "source": [
        "## Problem 1\n",
        "How many samples are there in the dataset?\n",
        "\n",
        "### Answer\n",
        "1998"
      ],
      "metadata": {
        "id": "VAONMkaU91v7"
      }
    },
    {
      "cell_type": "markdown",
      "source": [
        "## Solution"
      ],
      "metadata": {
        "id": "LnXmn5t-V8Us"
      }
    },
    {
      "cell_type": "code",
      "source": [
        "X.shape[0]"
      ],
      "metadata": {
        "colab": {
          "base_uri": "https://localhost:8080/"
        },
        "id": "b8mWzvYI96Vq",
        "outputId": "991d4d88-dbd2-47e1-f4aa-6eb442635828"
      },
      "execution_count": null,
      "outputs": [
        {
          "output_type": "execute_result",
          "data": {
            "text/plain": [
              "1998"
            ]
          },
          "metadata": {},
          "execution_count": 200
        }
      ]
    },
    {
      "cell_type": "markdown",
      "source": [
        "## Problem 2\n",
        "\n",
        "How many features are there in the dataset?\n",
        "\n",
        "### Answer\n",
        "\n",
        "2\n"
      ],
      "metadata": {
        "id": "ozjMS6e_91y3"
      }
    },
    {
      "cell_type": "markdown",
      "source": [
        "## Solution"
      ],
      "metadata": {
        "id": "xvFvIHN9V_s7"
      }
    },
    {
      "cell_type": "code",
      "source": [
        "X.shape[1]"
      ],
      "metadata": {
        "colab": {
          "base_uri": "https://localhost:8080/"
        },
        "id": "ii_yZn4N-Di8",
        "outputId": "0a936b39-8ffe-49ce-887e-d9f7d57a56ca"
      },
      "execution_count": null,
      "outputs": [
        {
          "output_type": "execute_result",
          "data": {
            "text/plain": [
              "2"
            ]
          },
          "metadata": {},
          "execution_count": 201
        }
      ]
    },
    {
      "cell_type": "markdown",
      "source": [
        "## Problem 3\n",
        "Plot the dataset using matplotlib.\n",
        "\n",
        "### Answer\n",
        "0"
      ],
      "metadata": {
        "id": "mvplHWyjiUbW"
      }
    },
    {
      "cell_type": "markdown",
      "source": [
        "## Solution"
      ],
      "metadata": {
        "id": "CbfiHcTWWAW_"
      }
    },
    {
      "cell_type": "code",
      "source": [
        "import matplotlib.pyplot as plt\n",
        "plt.scatter(X[:, 0], X[:, 1])\n"
      ],
      "metadata": {
        "colab": {
          "base_uri": "https://localhost:8080/",
          "height": 282
        },
        "id": "ajYsJVCaXUuX",
        "outputId": "afb5392b-d7bb-45cd-a8c2-ecea5cf22207"
      },
      "execution_count": null,
      "outputs": [
        {
          "output_type": "execute_result",
          "data": {
            "text/plain": [
              "<matplotlib.collections.PathCollection at 0x7ffb987ea7d0>"
            ]
          },
          "metadata": {},
          "execution_count": 202
        },
        {
          "output_type": "display_data",
          "data": {
            "text/plain": [
              "<Figure size 432x288 with 1 Axes>"
            ],
            "image/png": "[encoded data removed]"
          },
          "metadata": {
            "needs_background": "light"
          }
        }
      ]
    },
    {
      "cell_type": "markdown",
      "source": [
        "## Instruction\n",
        "\n",
        "Assume k = 3. Take the data points with indices 200, 800 and 1200 in X to be the initial cluster centers.\n"
      ],
      "metadata": {
        "id": "KqqNxjxwTcmy"
      }
    },
    {
      "cell_type": "code",
      "source": [
        "k = 3\n",
        "\n",
        "indices_of_initial_cluster_centers = np.array([200, 800, 1200])\n",
        "cluster_centers = X[indices_of_initial_cluster_centers]"
      ],
      "metadata": {
        "id": "TztM7dCBtOez"
      },
      "execution_count": null,
      "outputs": []
    },
    {
      "cell_type": "markdown",
      "source": [
        "## Problem 4 \n",
        "\n",
        "Write a function `assign_clusters(X, k, cluster_centers)` that assigns a cluster to each data point as per their distance from each cluster centre and returns a vector `z`, where $z[i] \\in \\{0, 1, 2\\}$.\n",
        "\n",
        "What is the mean of the values in vector `z`? Provide the answer correct up to three decimal places.\n",
        "\n",
        "### Answer\n",
        "\n",
        "0.710 (Range: 0.65 - 0.75)"
      ],
      "metadata": {
        "id": "boFYtkMYGvqp"
      }
    },
    {
      "cell_type": "markdown",
      "source": [
        "## Solution"
      ],
      "metadata": {
        "id": "TxzT0NmEWBT4"
      }
    },
    {
      "cell_type": "code",
      "source": [
        "def assign_clusters(X, k, cluster_centers):\n",
        "  z = np.array([])\n",
        "  for each in X:\n",
        "    dists_from_each_center = [np.linalg.norm(cluster_centers[i]- each) for i in range(k)] \n",
        "    z = np.append(z, np.argmin(dists_from_each_center))\n",
        "  return z\n",
        "\n",
        "z = assign_clusters(X, k, cluster_centers)\n",
        "z"
      ],
      "metadata": {
        "colab": {
          "base_uri": "https://localhost:8080/"
        },
        "id": "-AG_aso7vJJJ",
        "outputId": "63e1ce65-48dd-483d-f3a4-7550c2deff76"
      },
      "execution_count": null,
      "outputs": [
        {
          "output_type": "execute_result",
          "data": {
            "text/plain": [
              "array([0., 0., 0., ..., 1., 1., 1.])"
            ]
          },
          "metadata": {},
          "execution_count": 204
        }
      ]
    },
    {
      "cell_type": "code",
      "source": [
        "z.mean()"
      ],
      "metadata": {
        "colab": {
          "base_uri": "https://localhost:8080/"
        },
        "id": "l0AKPtv9K_x5",
        "outputId": "92a3ab47-71c0-4957-e393-e7dfbdd3ebe2"
      },
      "execution_count": null,
      "outputs": [
        {
          "output_type": "execute_result",
          "data": {
            "text/plain": [
              "0.7107107107107107"
            ]
          },
          "metadata": {},
          "execution_count": 205
        }
      ]
    },
    {
      "cell_type": "markdown",
      "source": [
        "## Problem 5\n",
        "\n",
        "Plot the data points, with different color for different clusters.\n",
        "\n",
        "### Answer\n",
        "\n",
        "0\n"
      ],
      "metadata": {
        "id": "wBAID5ZVvRT-"
      }
    },
    {
      "cell_type": "markdown",
      "source": [
        "## Solution"
      ],
      "metadata": {
        "id": "CqzhLWSSWCDM"
      }
    },
    {
      "cell_type": "code",
      "source": [
        "plt.scatter(X[:, 0], X[:, 1], c = z)\n",
        "plt.scatter(cluster_centers[:, 0], cluster_centers[:, 1], marker = '+', s = 200, color = 'k')"
      ],
      "metadata": {
        "colab": {
          "base_uri": "https://localhost:8080/",
          "height": 282
        },
        "id": "W8HGT5APvYqx",
        "outputId": "27e1ee99-3799-4779-fc73-f21382349040"
      },
      "execution_count": null,
      "outputs": [
        {
          "output_type": "execute_result",
          "data": {
            "text/plain": [
              "<matplotlib.collections.PathCollection at 0x7ffb98763d10>"
            ]
          },
          "metadata": {},
          "execution_count": 206
        },
        {
          "output_type": "display_data",
          "data": {
            "text/plain": [
              "<Figure size 432x288 with 1 Axes>"
            ],
            "image/png": "[encoded data removed]"
          },
          "metadata": {
            "needs_background": "light"
          }
        }
      ]
    },
    {
      "cell_type": "markdown",
      "source": [
        "## Problem 6\n",
        "Write a function `compute_cluster_centers(X, z, k)` that computes the clusters' centers as per `z` and returns `k` new cluster centers.\n",
        "\n",
        "What is the mean of the three cluster centers? Provide the $x_1$ and $y_1$ component. Provide both components correct up to three decimal places.\n",
        "\n",
        "## Answer\n",
        "\n",
        "(1) -2.552 (Range: -3 to -2)\n",
        "\n",
        "(2) -0.192 (Range: -0.25 to -0.15)"
      ],
      "metadata": {
        "id": "1K6nYDj9vc5F"
      }
    },
    {
      "cell_type": "markdown",
      "source": [
        "## Solution"
      ],
      "metadata": {
        "id": "QV1U58JaWC0N"
      }
    },
    {
      "cell_type": "code",
      "source": [
        "def compute_cluster_centers(X, z, k):\n",
        "  cluster_centers = np.array([np.mean(X[z == i], axis = 0) for i in range(k)])\n",
        "  return cluster_centers\n",
        "\n",
        "cluster_centers = compute_cluster_centers(X, z, k)\n",
        "cluster_centers"
      ],
      "metadata": {
        "colab": {
          "base_uri": "https://localhost:8080/"
        },
        "id": "tKwl_GatvjEu",
        "outputId": "e522bf54-cace-4420-9f70-fe86a74ffa5b"
      },
      "execution_count": null,
      "outputs": [
        {
          "output_type": "execute_result",
          "data": {
            "text/plain": [
              "array([[ 0.15243752,  2.47002787],\n",
              "       [-4.09339723,  0.26891354],\n",
              "       [-3.71658966, -3.31569723]])"
            ]
          },
          "metadata": {},
          "execution_count": 207
        }
      ]
    },
    {
      "cell_type": "code",
      "source": [
        "cluster_centers.mean(axis = 0)"
      ],
      "metadata": {
        "colab": {
          "base_uri": "https://localhost:8080/"
        },
        "id": "YSBoX7gLMtU3",
        "outputId": "43357bb7-75bc-4ea2-f77a-2a91d1f35800"
      },
      "execution_count": null,
      "outputs": [
        {
          "output_type": "execute_result",
          "data": {
            "text/plain": [
              "array([-2.55251646, -0.19225194])"
            ]
          },
          "metadata": {},
          "execution_count": 208
        }
      ]
    },
    {
      "cell_type": "markdown",
      "source": [
        "## Extra\n",
        "\n",
        "Keep executing the code in problems 4, 5 and 6 (for, say 10 iterations) to observe how the clusters change across different iterations."
      ],
      "metadata": {
        "id": "4j1E8gyGLjsf"
      }
    },
    {
      "cell_type": "markdown",
      "source": [
        "## Solution"
      ],
      "metadata": {
        "id": "u7RrjoDmWDp1"
      }
    },
    {
      "cell_type": "code",
      "source": [
        "for i in range(10):\n",
        "  z = assign_clusters(X, k, cluster_centers)\n",
        "  plt.scatter(X[:, 0], X[:, 1], c = z)\n",
        "  plt.scatter(cluster_centers[:, 0], cluster_centers[:, 1], marker = '+', s = 200, color = 'k')\n",
        "  cluster_centers = compute_cluster_centers(X, z, k)\n"
      ],
      "metadata": {
        "colab": {
          "base_uri": "https://localhost:8080/",
          "height": 265
        },
        "id": "bLsqFfBpVBHD",
        "outputId": "53f2e606-65e4-4320-9c50-ea284c4ac4a1"
      },
      "execution_count": null,
      "outputs": [
        {
          "output_type": "display_data",
          "data": {
            "text/plain": [
              "<Figure size 432x288 with 1 Axes>"
            ],
            "image/png": "[encoded data removed]"
          },
          "metadata": {
            "needs_background": "light"
          }
        }
      ]
    }
  ]
}