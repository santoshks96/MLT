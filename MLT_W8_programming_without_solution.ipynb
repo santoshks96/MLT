{
  "nbformat": 4,
  "nbformat_minor": 0,
  "metadata": {
    "colab": {
      "provenance": []
    },
    "kernelspec": {
      "name": "python3",
      "display_name": "Python 3"
    },
    "language_info": {
      "name": "python"
    }
  },
  "cells": [
    {
      "cell_type": "code",
      "execution_count": null,
      "metadata": {
        "id": "IeFUTqbNKOzL"
      },
      "outputs": [],
      "source": [
        "import numpy as np\n",
        "import matplotlib.pyplot as plt"
      ]
    },
    {
      "cell_type": "markdown",
      "source": [
        "# Bernoulli naive Bayes"
      ],
      "metadata": {
        "id": "3KUeTDaZuse4"
      }
    },
    {
      "cell_type": "markdown",
      "source": [
        "Run the below cell to get the following variables:\n",
        "\n",
        "`X` = Data matrix of shape $(n, d)$. All the features are binary taking values $0$ or $1$.\n",
        "\n",
        "`y` = label vector. Labels are $0$ and $1$."
      ],
      "metadata": {
        "id": "xpHCecV1uwdn"
      }
    },
    {
      "cell_type": "code",
      "source": [
        "rng = np.random.default_rng(seed=1)\n",
        "X1 = np.concatenate((rng.binomial(size = 50,n = 1, p =0.7), rng.binomial(size = 50,n = 1, p =0.2))).reshape(-1, 1)\n",
        "X2 = np.concatenate((rng.binomial(size = 50,n = 1, p =0.6), rng.binomial(size = 50,n = 1, p =0.1))).reshape(-1, 1)\n",
        "X3 = np.concatenate((rng.binomial(size = 50,n = 1, p =0.6), rng.binomial(size = 50,n = 1, p =0.2))).reshape(-1, 1)\n",
        "X4 = np.concatenate((rng.binomial(size = 50,n = 1, p =0.8), rng.binomial(size = 50,n = 1, p =0.1))).reshape(-1, 1)\n",
        "\n",
        "\n",
        "X = np.column_stack((X1,X2,X3,X4))\n",
        "\n",
        "y = np.concatenate((np.zeros(50, dtype= int), np.ones(50, dtype = int))).reshape(-1, 1)\n",
        "permute = rng.permuted(range(100)) \n",
        "\n",
        "X = X[permute]\n",
        "y = y[permute]\n"
      ],
      "metadata": {
        "id": "0PxEvCrZ3FD_"
      },
      "execution_count": null,
      "outputs": []
    },
    {
      "cell_type": "markdown",
      "source": [
        "## Question 1\n",
        "If we train the naive Bayes model on the dataset, What will be the value of $\\hat{p}$, the estimate for $P(Y=1)$? \n",
        "\n"
      ],
      "metadata": {
        "id": "Zl_usamKCeY5"
      }
    },
    {
      "cell_type": "code",
      "source": [
        "# Enter your solution here"
      ],
      "metadata": {
        "id": "J5lPVYy-8yLf"
      },
      "execution_count": 1,
      "outputs": []
    },
    {
      "cell_type": "markdown",
      "source": [
        "## Question 2\n",
        "What will be the value of $\\hat{p}_0^0$, the estimate of $P(f_0=1|y=0)$?  Write your answer correct to two decimal places.\n",
        "\n"
      ],
      "metadata": {
        "id": "yOoMZca0DGhs"
      }
    },
    {
      "cell_type": "code",
      "source": [
        "# Enter your solution here"
      ],
      "metadata": {
        "id": "8sD0Ryp0fEnp"
      },
      "execution_count": null,
      "outputs": []
    },
    {
      "cell_type": "markdown",
      "source": [
        "## Question 3\n",
        "What will be the value of $\\hat{p}_0^1$, the estimate of $P(f_0=1|y=1)$?  Write your answer correct to two decimal places.\n",
        "\n"
      ],
      "metadata": {
        "id": "YzJLLT6-G8GC"
      }
    },
    {
      "cell_type": "code",
      "source": [
        "# Enter your solution here"
      ],
      "metadata": {
        "id": "q7qSgWyXfFhF"
      },
      "execution_count": 8,
      "outputs": []
    },
    {
      "cell_type": "markdown",
      "source": [
        "## Question 4\n",
        "What will be the value of $\\hat{p}_3^1$, the estimate of $P(f_3=1|y=1)$?  Write your answer correct to two decimal places.\n",
        "\n",
        "\n"
      ],
      "metadata": {
        "id": "NiciwccfHGwq"
      }
    },
    {
      "cell_type": "code",
      "source": [
        "# Enter your solution here"
      ],
      "metadata": {
        "id": "YtXPKjmp6zOt"
      },
      "execution_count": 9,
      "outputs": []
    },
    {
      "cell_type": "markdown",
      "source": [
        "## Question 5\n",
        "\n",
        "What will be the predicted label for the point $[1, 0, 1, 0]$? \n",
        "\n"
      ],
      "metadata": {
        "id": "3oJ0jnoHHcd9"
      }
    },
    {
      "cell_type": "code",
      "source": [
        "# Enter your solution here"
      ],
      "metadata": {
        "id": "MoYmaBy9KQSU"
      },
      "execution_count": null,
      "outputs": []
    },
    {
      "cell_type": "markdown",
      "source": [
        "## Question 6\n",
        "\n",
        "What will be the predicted label for the point $[1, 0, 1, 1]$? \n",
        "\n"
      ],
      "metadata": {
        "id": "3J2SCm1yHxd4"
      }
    },
    {
      "cell_type": "code",
      "source": [
        "# Enter your solution here"
      ],
      "metadata": {
        "id": "tK04m9YU7cXy"
      },
      "execution_count": 3,
      "outputs": []
    },
    {
      "cell_type": "markdown",
      "source": [
        "# Gaussian naive Bayes"
      ],
      "metadata": {
        "id": "45p6DAPA7dCl"
      }
    },
    {
      "cell_type": "markdown",
      "source": [
        "Run the below cell to get the following variables:\n",
        "\n",
        "`X_train` = Training dataset of the shape $(n, d)$. All the examples are coming from multivariate gaussian distribution.\n",
        "\n",
        "`y_train` = label vector for corresponding training examples. labels are $0$ and $1$.\n",
        "\n",
        "`X_test` = Test dataset of the shape $(m, d)$, where $m$ is the number of examples in the test dataset. All the examples are coming from multivariate gaussian distribution.\n",
        "\n",
        "`y_test` = label vector for corresponding test examples. labels are $0$ and $1$.\n",
        "\n"
      ],
      "metadata": {
        "id": "bbamhBbvjuzj"
      }
    },
    {
      "cell_type": "code",
      "source": [
        "from sklearn.datasets import make_classification, make_blobs\n",
        "from sklearn.model_selection import train_test_split\n",
        "\n",
        "# generate artificial data points\n",
        "X, y = make_blobs(n_samples = 100,\n",
        "                  n_features=2, \n",
        "                  centers=[[5,5],[10,10]],\n",
        "                  cluster_std=1.5,\n",
        "                  random_state=2)\n",
        "\n",
        "X_train, X_test, y_train, y_test = train_test_split(X, y, test_size=0.2,\n",
        "                                                    random_state=123)"
      ],
      "metadata": {
        "id": "qtqz8DPG7gok"
      },
      "execution_count": null,
      "outputs": []
    },
    {
      "cell_type": "markdown",
      "source": [
        "## Question 7\n",
        "\n",
        "How many examples are there in the trianing dataset?\n",
        "\n"
      ],
      "metadata": {
        "id": "BRc3AVIZkphz"
      }
    },
    {
      "cell_type": "code",
      "source": [
        "# Enter your solution here"
      ],
      "metadata": {
        "id": "9nqy1H-nkybF"
      },
      "execution_count": 4,
      "outputs": []
    },
    {
      "cell_type": "markdown",
      "source": [
        "## Question 8\n",
        "How many features are there in the dataset?\n",
        "\n"
      ],
      "metadata": {
        "id": "KhQF7arNk6xf"
      }
    },
    {
      "cell_type": "code",
      "source": [
        "# Enter your solution here"
      ],
      "metadata": {
        "id": "uoO-_Wv9lruv"
      },
      "execution_count": 5,
      "outputs": []
    },
    {
      "cell_type": "markdown",
      "source": [
        "## Question 9\n",
        "\n",
        "If we train the Gaussian naive Bayes model on the trianing dataset, What will be the value of $\\hat{p}$, the estimate for $P(Y=1)$? Write your answer correct to two decimal places.\n",
        "\n",
        "\n",
        "\n"
      ],
      "metadata": {
        "id": "yf2hc7NDlxm8"
      }
    },
    {
      "cell_type": "code",
      "source": [
        "# Enter your solution here"
      ],
      "metadata": {
        "id": "LpJE6KJ5mpBp"
      },
      "execution_count": null,
      "outputs": []
    },
    {
      "cell_type": "markdown",
      "source": [
        "## Question 10\n",
        "\n",
        "If $\\hat{\\mu}_0 = [\\mu_1, \\mu_2, ..., \\mu_d]$ be the estimate for $\\mu_0$, the mean of $0$ labeled examples, what will be the value of $\\mu_1+\\mu_2+...+\\mu_d$? Write your answer correct to two decimal places.\n",
        "\n"
      ],
      "metadata": {
        "id": "0wQUcpH7mrZr"
      }
    },
    {
      "cell_type": "code",
      "source": [
        "# Enter your solution here"
      ],
      "metadata": {
        "id": "mtZ_BtxImJ0J"
      },
      "execution_count": null,
      "outputs": []
    },
    {
      "cell_type": "markdown",
      "source": [
        "We will be using the different covariances for different labeled examples. The estimate for $\\Sigma_k$ will be \n",
        "\n",
        "$$\\hat{\\Sigma}_k = \\sigma_iI$$ where $\\sigma_i$ is the variance of $i^{th}$ feature values of examples labeled $k$.\n",
        "\n"
      ],
      "metadata": {
        "id": "1mnoFEJQnq9E"
      }
    },
    {
      "cell_type": "markdown",
      "source": [
        "## Question 11\n",
        "What will be value of $\\text{trace}({\\hat{\\Sigma}}_0)$?  Write your answer correct to two decimal places.\n",
        "\n",
        "\n",
        "\n",
        "\n",
        "\n"
      ],
      "metadata": {
        "id": "f-aioEqdpng7"
      }
    },
    {
      "cell_type": "code",
      "source": [
        "# Enter your solution here"
      ],
      "metadata": {
        "id": "ExzW4sEOqpEF"
      },
      "execution_count": 6,
      "outputs": []
    },
    {
      "cell_type": "markdown",
      "source": [
        "## Question 12\n",
        "\n",
        "Once we have estimated all the parameters for Gaussian naive Bayes assuming the different covariance matrices, we predict the labels for the training examples. What will be the training accuracy?\n",
        "\n",
        "Accuracy is defined as the proportion of correctly classified examples.  Write your answer correct to two decimal places.\n",
        "\n",
        "\n"
      ],
      "metadata": {
        "id": "UKbeWd7fq1Ny"
      }
    },
    {
      "cell_type": "code",
      "source": [
        "# Enter your solution here"
      ],
      "metadata": {
        "id": "YIg9Z1K0GwUo"
      },
      "execution_count": null,
      "outputs": []
    },
    {
      "cell_type": "markdown",
      "source": [
        "## Question 13\n",
        "\n",
        "What will be the test accuracy?\n",
        "\n",
        "Accuracy is defined as the proportion of correctly classified examples.  \n",
        "\n",
        "\n"
      ],
      "metadata": {
        "id": "kg661kj3uaxx"
      }
    },
    {
      "cell_type": "code",
      "source": [
        "# Enter your solution here"
      ],
      "metadata": {
        "id": "ST0Ri7TEujUw"
      },
      "execution_count": 7,
      "outputs": []
    }
  ]
}